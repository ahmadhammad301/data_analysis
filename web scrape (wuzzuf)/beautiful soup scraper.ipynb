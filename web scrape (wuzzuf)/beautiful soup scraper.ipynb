{
 "cells": [
  {
   "cell_type": "code",
   "execution_count": 37,
   "id": "44a70e01",
   "metadata": {},
   "outputs": [],
   "source": [
    "from bs4 import BeautifulSoup\n",
    "import requests\n",
    "import csv\n",
    "from itertools import zip_longest"
   ]
  },
  {
   "cell_type": "code",
   "execution_count": 59,
   "id": "30a661ba",
   "metadata": {
    "scrolled": true
   },
   "outputs": [
    {
     "name": "stdout",
     "output_type": "stream",
     "text": [
      "1\n",
      "2\n",
      "3\n",
      "4\n",
      "5\n",
      "6\n",
      "7\n",
      "8\n",
      "9\n",
      "10\n",
      "11\n",
      "12\n",
      "13\n",
      "14\n",
      "15\n",
      "16\n",
      "17\n",
      "18\n",
      "19\n",
      "20\n",
      "21\n",
      "22\n",
      "23\n",
      "24\n",
      "25\n",
      "26\n",
      "27\n",
      "28\n",
      "29\n",
      "30\n",
      "31\n",
      "32\n",
      "33\n",
      "34\n",
      "35\n",
      "36\n",
      "37\n",
      "38\n",
      "39\n",
      "40\n",
      "41\n",
      "42\n",
      "43\n",
      "44\n",
      "45\n",
      "46\n",
      "47\n",
      "48\n"
     ]
    }
   ],
   "source": [
    "page_num=0\n",
    "jop_title=[]\n",
    "company_name=[]\n",
    "exp_level=[]\n",
    "jop_detail=[]\n",
    "link=[]\n",
    "\n",
    "while True:\n",
    "    try:\n",
    "        result = requests.get(f\"https://wuzzuf.net/search/jobs/?a=navbl&q=data%20science&start={page_num}\")\n",
    "        # save the page \n",
    "        src = result.content\n",
    "        # lets make th soup \n",
    "        soup = BeautifulSoup(src,\"lxml\")\n",
    "        \n",
    "        # lets fetch in our soup\n",
    "        #first we get the page numbers :\n",
    "        pages=soup.find(\"strong\").text\n",
    "        max_pages=int(pages)//15\n",
    "        #max_pages=10 #to test it only \n",
    "        jop_titles=soup.find_all(\"h2\",{\"class\":\"css-m604qf\"},{\"class\":\"css-o171kl\"})\n",
    "        company_names=soup.find_all(\"a\",{\"class\":\"css-17s97q8\"})\n",
    "        jop_details = soup.find_all(\"div\",{\"class\":\"css-y4udm8\"})\n",
    "\n",
    "        for i in range(len(jop_titles)):\n",
    "            jop_title.append(jop_titles[i].text)\n",
    "            link.append(\"https://wuzzuf.net\"+jop_titles[i].find(\"a\").attrs[\"href\"])\n",
    "            company_name.append(company_names[i].text[:-2])\n",
    "            exp_level.append(jop_details[i].text.split('·')[1].strip())\n",
    "            jop_detail.append(jop_details[i].text)\n",
    "       \n",
    "        page_num+=1\n",
    "        print(page_num)\n",
    "        if page_num > max_pages:\n",
    "            break\n",
    "            \n",
    "    except KeyboardInterrupt:\n",
    "        print(\"user interupt\")\n",
    "        break\n",
    "    except Exception as e :\n",
    "        print(\"error occured{}\".format(e))"
   ]
  },
  {
   "cell_type": "code",
   "execution_count": 60,
   "id": "26be4f97",
   "metadata": {},
   "outputs": [],
   "source": [
    "#save every thing \n",
    "with open(\"wuzzuf.csv\",\"w\",encoding=\"utf-8\") as file:\n",
    "    wr = csv.writer(file)\n",
    "    wr.writerow([\"jop_title\",\"company_name\",\"exp_level\",\"jop_details\",\"link\"])\n",
    "   # for x,y,z,h,f in zip_longest(jop_title,company_name,exp_level,jop_detail,link):\n",
    "    #    wr.writerow([x,y,z,h,f])\n",
    "    for row in zip(jop_title, company_name, exp_level,jop_detail,link):\n",
    "         wr.writerow(row)"
   ]
  },
  {
   "cell_type": "code",
   "execution_count": null,
   "id": "4e28ba9c",
   "metadata": {},
   "outputs": [],
   "source": []
  },
  {
   "cell_type": "code",
   "execution_count": null,
   "id": "25898334",
   "metadata": {},
   "outputs": [],
   "source": []
  }
 ],
 "metadata": {
  "kernelspec": {
   "display_name": "Python 3",
   "language": "python",
   "name": "python3"
  },
  "language_info": {
   "codemirror_mode": {
    "name": "ipython",
    "version": 3
   },
   "file_extension": ".py",
   "mimetype": "text/x-python",
   "name": "python",
   "nbconvert_exporter": "python",
   "pygments_lexer": "ipython3",
   "version": "3.8.8"
  }
 },
 "nbformat": 4,
 "nbformat_minor": 5
}
